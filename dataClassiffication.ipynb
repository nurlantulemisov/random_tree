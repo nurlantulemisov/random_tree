{
  "cells": [
    {
      "cell_type": "code",
      "execution_count": 29,
      "metadata": {
        "collapsed": true,
        "pycharm": {
          "is_executing": false,
          "name": "#%% Import libs\n"
        }
      },
      "outputs": [],
      "source": "import numpy as np\nfrom pandas import read_csv as read\nfrom scipy.stats import entropy"
    },
    {
      "cell_type": "code",
      "execution_count": 30,
      "outputs": [],
      "source": "#path \u003d \"bank.csv\"\n#dataset \u003d read(path, delimiter\u003d\";\")\ndata \u003d np.array([[0, 0, 0, 1, 1, 0, 1, 1, 0],\n                 [19, 20, 18, 25, 30, 20, 21, 45, 28],\n                 [1500, 1000, 1000, 10000, 20000, 2700, 800, 10000, 2000]])",
      "metadata": {
        "pycharm": {
          "metadata": false,
          "name": "#%% read dataset\n",
          "is_executing": false
        }
      }
    },
    {
      "cell_type": "code",
      "execution_count": 41,
      "outputs": [
        {
          "name": "stdout",
          "text": [
            "0.6610862099337678\n"
          ],
          "output_type": "stream"
        }
      ],
      "source": "entropy1 \u003d entropy(data[0], data[2])\nprint(entropy1)",
      "metadata": {
        "pycharm": {
          "metadata": false,
          "name": "#%%\n",
          "is_executing": false
        }
      }
    }
  ],
  "metadata": {
    "language_info": {
      "codemirror_mode": {
        "name": "ipython",
        "version": 2
      },
      "file_extension": ".py",
      "mimetype": "text/x-python",
      "name": "python",
      "nbconvert_exporter": "python",
      "pygments_lexer": "ipython2",
      "version": "2.7.6"
    },
    "kernelspec": {
      "name": "python3",
      "language": "python",
      "display_name": "Python 3"
    }
  },
  "nbformat": 4,
  "nbformat_minor": 0
}