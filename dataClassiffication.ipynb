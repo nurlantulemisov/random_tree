{
  "cells": [
    {
      "cell_type": "code",
      "execution_count": 73,
      "metadata": {
        "collapsed": true,
        "pycharm": {
          "is_executing": false,
          "name": "#%% Import libs\n"
        }
      },
      "outputs": [],
      "source": "import math as math\nimport numpy as np\nfrom pandas import read_csv as read\nfrom scipy.stats import entropy"
    },
    {
      "cell_type": "code",
      "execution_count": 74,
      "outputs": [],
      "source": "path \u003d \"bank.csv\"\ndataset \u003d read(path, delimiter\u003d\";\")\n# data \u003d np.array([[0, 0, 0, 1, 1, 0, 1, 1, 0],\n#                  [19, 20, 18, 25, 30, 20, 21, 45, 28],\n#                  [1500, 1000, 1000, 10000, 20000, 2700, 800, 10000, 2000]])",
      "metadata": {
        "pycharm": {
          "metadata": false,
          "name": "#%% read dataset\n",
          "is_executing": false
        }
      }
    },
    {
      "cell_type": "code",
      "execution_count": 75,
      "outputs": [],
      "source": "dataset[\u0027y\u0027] \u003d dataset[\u0027y\u0027].map({\u0027no\u0027: 0, \u0027yes\u0027: 1})\ndataset[\u0027job\u0027] \u003d dataset[\u0027job\u0027].map({\u0027admin.\u0027: 0, \u0027unknown\u0027: 1,\n                                     \u0027unemployed\u0027: 2,\n                                     \u0027management\u0027: 3,\n                                     \u0027housemaid\u0027: 4,\n                                     \u0027entrepreneur\u0027: 5,\n                                     \u0027student\u0027: 6,\n                                     \u0027blue-collar\u0027: 7,\n                                     \u0027self-employed\u0027: 8,\n                                     \u0027retired\u0027: 9,\n                                     \u0027technician\u0027: 10,\n                                     \u0027services\u0027: 11})\n\ndataset[\u0027marital\u0027] \u003d dataset[\u0027marital\u0027].map({\u0027married\u0027: 0,\n                                             \u0027divorced\u0027: 1,\n                                             \u0027single\u0027: 2})\n\ndataset[\u0027education\u0027] \u003d dataset[\u0027education\u0027].map({\u0027unknown\u0027: 0,\n                                                 \u0027primary\u0027: 1,\n                                                 \u0027secondary\u0027: 2,\n                                                 \u0027tertiary\u0027: 3})\n\ndataset[\u0027contact\u0027] \u003d dataset[\u0027contact\u0027].map({\u0027unknown\u0027: 0,\n                                             \u0027telephone\u0027: 1,\n                                             \u0027cellular\u0027: 2})\n\ndataset[\u0027poutcome\u0027] \u003d dataset[\u0027poutcome\u0027].map({\u0027unknown\u0027: 0,\n                                               \u0027other\u0027: 1,\n                                               \u0027failure\u0027: 2,\n                                               \u0027success\u0027: 3})\n\ndataset[\u0027default\u0027] \u003d dataset[\u0027default\u0027].map({\u0027no\u0027: 0, \u0027yes\u0027: 1})\n\ndataset[\u0027housing\u0027] \u003d dataset[\u0027housing\u0027].map({\u0027no\u0027: 0, \u0027yes\u0027: 1})\n\ndataset[\u0027loan\u0027] \u003d dataset[\u0027loan\u0027].map({\u0027no\u0027: 0, \u0027yes\u0027: 1})",
      "metadata": {
        "pycharm": {
          "metadata": false,
          "name": "#%%\n",
          "is_executing": false
        }
      }
    },
    {
      "cell_type": "code",
      "execution_count": 81,
      "outputs": [
        {
          "name": "stdout",
          "text": [
            "inf\n"
          ],
          "output_type": "stream"
        }
      ],
      "source": "en1 \u003d entropy(pk\u003ddataset[\u0027balance\u0027], qk\u003ddataset[\u0027y\u0027])\nprint(en1)\n",
      "metadata": {
        "pycharm": {
          "metadata": false,
          "name": "#%%\n",
          "is_executing": false
        }
      }
    }
  ],
  "metadata": {
    "language_info": {
      "codemirror_mode": {
        "name": "ipython",
        "version": 2
      },
      "file_extension": ".py",
      "mimetype": "text/x-python",
      "name": "python",
      "nbconvert_exporter": "python",
      "pygments_lexer": "ipython2",
      "version": "2.7.6"
    },
    "kernelspec": {
      "name": "python3",
      "language": "python",
      "display_name": "Python 3"
    }
  },
  "nbformat": 4,
  "nbformat_minor": 0
}